{
 "cells": [
  {
   "cell_type": "code",
   "execution_count": 1,
   "metadata": {},
   "outputs": [
    {
     "name": "stdout",
     "output_type": "stream",
     "text": [
      "[2023-10-14 19:06:49,178] [INFO] [real_accelerator.py:158:get_accelerator] Setting ds_accelerator to cuda (auto detect)\n"
     ]
    }
   ],
   "source": [
    "from transformers import T5ForConditionalGeneration, AutoTokenizer\n",
    "\n",
    "model_type = \"google/flan-t5-base\"\n",
    "\n",
    "model = T5ForConditionalGeneration.from_pretrained(model_type)\n",
    "tokenizer = AutoTokenizer.from_pretrained(model_type)"
   ]
  },
  {
   "cell_type": "code",
   "execution_count": 2,
   "metadata": {},
   "outputs": [
    {
     "data": {
      "text/plain": [
       "('/data/jjwang/pretrained/google/flan-t5-base/tokenizer_config.json',\n",
       " '/data/jjwang/pretrained/google/flan-t5-base/special_tokens_map.json',\n",
       " '/data/jjwang/pretrained/google/flan-t5-base/spiece.model',\n",
       " '/data/jjwang/pretrained/google/flan-t5-base/added_tokens.json',\n",
       " '/data/jjwang/pretrained/google/flan-t5-base/tokenizer.json')"
      ]
     },
     "execution_count": 2,
     "metadata": {},
     "output_type": "execute_result"
    }
   ],
   "source": [
    "import pathlib\n",
    "\n",
    "model_dir = pathlib.Path(\"/data/jjwang/pretrained/google/flan-t5-base\")\n",
    "model_dir.mkdir(parents=True)\n",
    "\n",
    "model.save_pretrained(model_dir)\n",
    "tokenizer.save_pretrained(model_dir)"
   ]
  },
  {
   "cell_type": "code",
   "execution_count": 7,
   "metadata": {},
   "outputs": [],
   "source": [
    "from model.MatchModel_binary_classification import RobertaModel_binary_classify\n",
    "from transformers import AutoTokenizer,AutoConfig, AutoModel\n",
    "\n",
    "model_dir = \"outputs/optimal_checkpoint\"\n",
    "\n",
    "model_config = AutoConfig.from_pretrained(model_dir)\n",
    "# model = AutoModel.from_config(model_config)\n",
    "model = RobertaModel_binary_classify.from_pretrained(model_dir)\n",
    "tokenizer = AutoTokenizer.from_pretrained(model_dir)"
   ]
  },
  {
   "cell_type": "code",
   "execution_count": 9,
   "metadata": {},
   "outputs": [
    {
     "name": "stdout",
     "output_type": "stream",
     "text": [
      "tensor([[0.3950]], grad_fn=<AddmmBackward0>)\n"
     ]
    }
   ],
   "source": [
    "text = \"\"\"Are the following two sentences the same meaning?\n",
    "He said the foodservice pie business doesn 't fit the company 's long-term growth strategy . The foodservice pie business does not fit our long-term growth strategy .\"\"\"\n",
    "\n",
    "inputs = tokenizer(text, return_tensors='pt')\n",
    "outputs = model(**inputs)\n",
    "print(outputs['logits'])"
   ]
  },
  {
   "cell_type": "code",
   "execution_count": null,
   "metadata": {},
   "outputs": [],
   "source": []
  },
  {
   "cell_type": "code",
   "execution_count": 20,
   "metadata": {},
   "outputs": [],
   "source": [
    "from model.MatchModel_generation import T5Model\n",
    "from transformers import AutoTokenizer,AutoConfig, AutoModel\n",
    "\n",
    "model_dir = \"outputs/optimal_checkpoint\"\n",
    "\n",
    "model_config = AutoConfig.from_pretrained(model_dir)\n",
    "# model = AutoModel.from_config(model_config)\n",
    "model = T5Model.from_pretrained(model_dir, torch_dtype='auto')\n",
    "tokenizer = AutoTokenizer.from_pretrained(model_dir)"
   ]
  },
  {
   "cell_type": "code",
   "execution_count": 21,
   "metadata": {},
   "outputs": [
    {
     "name": "stderr",
     "output_type": "stream",
     "text": [
      "/home/jjwang/miniconda3/envs/nlp2/lib/python3.11/site-packages/transformers/generation/utils.py:1260: UserWarning: Using the model-agnostic default `max_length` (=20) to control thegeneration length. We recommend setting `max_new_tokens` to control the maximum length of the generation.\n",
      "  warnings.warn(\n"
     ]
    },
    {
     "name": "stdout",
     "output_type": "stream",
     "text": [
      "Yes, they have the same meaning.\n"
     ]
    }
   ],
   "source": [
    "text = \"\"\"Are the following two sentences the same meaning?\n",
    "He said the foodservice pie business doesn 't fit the company 's long-term growth strategy . The foodservice pie business does not fit our long-term growth strategy .\"\"\"\n",
    "\n",
    "inputs = tokenizer(text, return_tensors='pt')\n",
    "outputs = model.generate(**inputs)\n",
    "outputs = tokenizer.decode(outputs[0], skip_special_tokens=True, max_new_tokens=20)\n",
    "print(outputs)"
   ]
  },
  {
   "cell_type": "code",
   "execution_count": 15,
   "metadata": {},
   "outputs": [],
   "source": [
    "from transformers import T5Config, AutoConfig\n",
    "\n",
    "model_config = AutoConfig.from_pretrained(model_dir)"
   ]
  },
  {
   "cell_type": "code",
   "execution_count": 17,
   "metadata": {},
   "outputs": [],
   "source": [
    "from transformers import AutoModel\n",
    "\n",
    "model = AutoModel.from_config(model_config)\n",
    "# model_config"
   ]
  },
  {
   "cell_type": "code",
   "execution_count": 6,
   "metadata": {},
   "outputs": [
    {
     "data": {
      "text/plain": [
       "True"
      ]
     },
     "execution_count": 6,
     "metadata": {},
     "output_type": "execute_result"
    }
   ],
   "source": [
    "from transformers import PretrainedConfig\n",
    "\n",
    "isinstance(model_config, PretrainedConfig)"
   ]
  },
  {
   "cell_type": "code",
   "execution_count": 10,
   "metadata": {},
   "outputs": [
    {
     "data": {
      "text/plain": [
       "True"
      ]
     },
     "execution_count": 10,
     "metadata": {},
     "output_type": "execute_result"
    }
   ],
   "source": [
    "isinstance(model_config, T5Config)"
   ]
  },
  {
   "cell_type": "code",
   "execution_count": 13,
   "metadata": {},
   "outputs": [],
   "source": [
    "model_config = AutoConfig.from_pretrained(\"baichuan/\", trust_remote_code=True)"
   ]
  },
  {
   "cell_type": "code",
   "execution_count": 14,
   "metadata": {},
   "outputs": [
    {
     "data": {
      "text/plain": [
       "transformers_modules.configuration_baichuan.BaichuanConfig"
      ]
     },
     "execution_count": 14,
     "metadata": {},
     "output_type": "execute_result"
    }
   ],
   "source": [
    "model_config.__class__"
   ]
  },
  {
   "cell_type": "code",
   "execution_count": null,
   "metadata": {},
   "outputs": [],
   "source": []
  }
 ],
 "metadata": {
  "kernelspec": {
   "display_name": "nlp2",
   "language": "python",
   "name": "python3"
  },
  "language_info": {
   "codemirror_mode": {
    "name": "ipython",
    "version": 3
   },
   "file_extension": ".py",
   "mimetype": "text/x-python",
   "name": "python",
   "nbconvert_exporter": "python",
   "pygments_lexer": "ipython3",
   "version": "3.11.2"
  },
  "orig_nbformat": 4
 },
 "nbformat": 4,
 "nbformat_minor": 2
}
